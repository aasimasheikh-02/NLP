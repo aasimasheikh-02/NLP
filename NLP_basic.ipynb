{
  "nbformat": 4,
  "nbformat_minor": 0,
  "metadata": {
    "colab": {
      "provenance": []
    },
    "kernelspec": {
      "name": "python3",
      "display_name": "Python 3"
    },
    "language_info": {
      "name": "python"
    }
  },
  "cells": [
    {
      "cell_type": "code",
      "execution_count": null,
      "metadata": {
        "id": "K5aP2WyvBi8f"
      },
      "outputs": [],
      "source": [
        "import tensorflow as tf\n",
        "from tensorflow import keras\n",
        "from tensorflow.keras.preprocessing.text import Tokenizer\n"
      ]
    },
    {
      "cell_type": "code",
      "source": [
        "sentences=[\n",
        "    'I love my cat',\n",
        "    'I love my books',\n",
        "    'my love is cats'\n",
        "]"
      ],
      "metadata": {
        "id": "AvPw6pOAB5Sv"
      },
      "execution_count": null,
      "outputs": []
    },
    {
      "cell_type": "code",
      "source": [
        "sentences"
      ],
      "metadata": {
        "colab": {
          "base_uri": "https://localhost:8080/"
        },
        "id": "ilE1Q1FrCGE5",
        "outputId": "c2c0a693-7726-4504-af63-f00926f2a124"
      },
      "execution_count": null,
      "outputs": [
        {
          "output_type": "execute_result",
          "data": {
            "text/plain": [
              "['I love my cat', 'I love my books', 'my love is cats']"
            ]
          },
          "metadata": {},
          "execution_count": 20
        }
      ]
    },
    {
      "cell_type": "code",
      "source": [
        "#word_index"
      ],
      "metadata": {
        "id": "owyYnsXcEEWX"
      },
      "execution_count": null,
      "outputs": []
    },
    {
      "cell_type": "code",
      "source": [
        "tokenizer= Tokenizer(num_words=100)\n",
        "tokenizer.fit_on_texts(sentences)\n",
        "word_index=tokenizer.word_index\n",
        "print(word_index)"
      ],
      "metadata": {
        "colab": {
          "base_uri": "https://localhost:8080/"
        },
        "id": "zY7qtlhoCK7u",
        "outputId": "25e95f9e-f2e4-42fc-da58-5b5bd29016c2"
      },
      "execution_count": null,
      "outputs": [
        {
          "output_type": "stream",
          "name": "stdout",
          "text": [
            "{'love': 1, 'my': 2, 'i': 3, 'cat': 4, 'books': 5, 'is': 6, 'cats': 7}\n"
          ]
        }
      ]
    },
    {
      "cell_type": "code",
      "source": [
        "#sequence"
      ],
      "metadata": {
        "id": "kDl0dyxLCiOZ"
      },
      "execution_count": null,
      "outputs": []
    },
    {
      "cell_type": "code",
      "source": [
        "tokenizer= Tokenizer(num_words=100,oov_token='<OOV>')\n",
        "tokenizer.fit_on_texts(sentences)\n",
        "word_index=tokenizer.word_index\n",
        "sequences= tokenizer.texts_to_sequences(sentences)\n",
        "print(sequences)"
      ],
      "metadata": {
        "colab": {
          "base_uri": "https://localhost:8080/"
        },
        "id": "c-b9hHlnEKUR",
        "outputId": "8830f0f8-347e-4bce-f5d9-bd5a466bb0f4"
      },
      "execution_count": null,
      "outputs": [
        {
          "output_type": "stream",
          "name": "stdout",
          "text": [
            "[[4, 2, 3, 5], [4, 2, 3, 6], [3, 2, 7, 8]]\n"
          ]
        }
      ]
    },
    {
      "cell_type": "code",
      "source": [
        "test_data=[\n",
        "    'I love to read books',\n",
        "    'I love books'\n",
        "]"
      ],
      "metadata": {
        "id": "exo_nH-KEgDQ"
      },
      "execution_count": null,
      "outputs": []
    },
    {
      "cell_type": "code",
      "source": [
        "from tensorflow.keras.preprocessing.sequence import pad_sequences"
      ],
      "metadata": {
        "id": "IGdB8UoBG910"
      },
      "execution_count": null,
      "outputs": []
    },
    {
      "cell_type": "code",
      "source": [
        "\n",
        "sequences= tokenizer.texts_to_sequences(test_data)\n",
        "padding= pad_sequences(sequences)\n",
        "print(sequences)\n",
        "print(padding, )"
      ],
      "metadata": {
        "colab": {
          "base_uri": "https://localhost:8080/"
        },
        "id": "54BLtw9mEwo1",
        "outputId": "33ce6e0c-4a22-47a8-ca5a-9e029443248e"
      },
      "execution_count": null,
      "outputs": [
        {
          "output_type": "stream",
          "name": "stdout",
          "text": [
            "[[4, 2, 1, 1, 6], [4, 2, 6]]\n",
            "[[4 2 1 1 6]\n",
            " [0 0 4 2 6]]\n"
          ]
        }
      ]
    },
    {
      "cell_type": "code",
      "source": [
        "print(word_index)"
      ],
      "metadata": {
        "colab": {
          "base_uri": "https://localhost:8080/"
        },
        "id": "DN4gC2URFFVe",
        "outputId": "415ed1f8-0769-4b3f-e2f7-ca951f893228"
      },
      "execution_count": null,
      "outputs": [
        {
          "output_type": "stream",
          "name": "stdout",
          "text": [
            "{'<OOV>': 1, 'love': 2, 'my': 3, 'i': 4, 'cat': 5, 'books': 6, 'is': 7, 'cats': 8}\n"
          ]
        }
      ]
    },
    {
      "cell_type": "code",
      "source": [],
      "metadata": {
        "id": "9anQUh6tGol_"
      },
      "execution_count": null,
      "outputs": []
    }
  ]
}